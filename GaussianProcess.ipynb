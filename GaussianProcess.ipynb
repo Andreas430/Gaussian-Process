{
 "cells": [
  {
   "cell_type": "markdown",
   "metadata": {},
   "source": [
    "## Linear Regression"
   ]
  },
  {
   "cell_type": "markdown",
   "metadata": {},
   "source": [
    "$$ y = w_0x_0 + w_1x_1 + ... + w_mx_m = \\sum_{j=0}^{m} w^Tx$$\n",
    "\n",
    "### Closed form solution\n",
    "$$ w= (X^TX)^-1X^Ty $$"
   ]
  },
  {
   "cell_type": "markdown",
   "metadata": {},
   "source": [
    "#### Import dependencies"
   ]
  },
  {
   "cell_type": "code",
   "execution_count": 1,
   "metadata": {},
   "outputs": [],
   "source": [
    "import pandas\n",
    "import numpy as np\n",
    "import matplotlib.pyplot as plt\n",
    "from scipy import linalg"
   ]
  },
  {
   "cell_type": "markdown",
   "metadata": {},
   "source": [
    "#### Random data for toy problem"
   ]
  },
  {
   "cell_type": "code",
   "execution_count": 2,
   "metadata": {},
   "outputs": [],
   "source": [
    "a= np.random.normal(0,1,2000).reshape(2000,1)\n",
    "b = np.ones((2000,2))\n",
    "\n",
    "for i in range(2000):\n",
    "    b[i][0] = a[i]\n",
    "    b[i][1] = a[i]*2  + np.random.normal()\n"
   ]
  },
  {
   "cell_type": "code",
   "execution_count": 3,
   "metadata": {},
   "outputs": [
    {
     "data": {
      "text/html": [
       "<div>\n",
       "<style scoped>\n",
       "    .dataframe tbody tr th:only-of-type {\n",
       "        vertical-align: middle;\n",
       "    }\n",
       "\n",
       "    .dataframe tbody tr th {\n",
       "        vertical-align: top;\n",
       "    }\n",
       "\n",
       "    .dataframe thead th {\n",
       "        text-align: right;\n",
       "    }\n",
       "</style>\n",
       "<table border=\"1\" class=\"dataframe\">\n",
       "  <thead>\n",
       "    <tr style=\"text-align: right;\">\n",
       "      <th></th>\n",
       "      <th>X</th>\n",
       "      <th>Y</th>\n",
       "    </tr>\n",
       "  </thead>\n",
       "  <tbody>\n",
       "    <tr>\n",
       "      <th>0</th>\n",
       "      <td>0.863815</td>\n",
       "      <td>1.013930</td>\n",
       "    </tr>\n",
       "    <tr>\n",
       "      <th>1</th>\n",
       "      <td>-0.177209</td>\n",
       "      <td>-0.880755</td>\n",
       "    </tr>\n",
       "    <tr>\n",
       "      <th>2</th>\n",
       "      <td>1.951065</td>\n",
       "      <td>2.401838</td>\n",
       "    </tr>\n",
       "    <tr>\n",
       "      <th>3</th>\n",
       "      <td>-0.055535</td>\n",
       "      <td>-1.084298</td>\n",
       "    </tr>\n",
       "    <tr>\n",
       "      <th>4</th>\n",
       "      <td>0.735910</td>\n",
       "      <td>0.419253</td>\n",
       "    </tr>\n",
       "    <tr>\n",
       "      <th>...</th>\n",
       "      <td>...</td>\n",
       "      <td>...</td>\n",
       "    </tr>\n",
       "    <tr>\n",
       "      <th>1995</th>\n",
       "      <td>0.207282</td>\n",
       "      <td>-0.423281</td>\n",
       "    </tr>\n",
       "    <tr>\n",
       "      <th>1996</th>\n",
       "      <td>-0.711794</td>\n",
       "      <td>0.147316</td>\n",
       "    </tr>\n",
       "    <tr>\n",
       "      <th>1997</th>\n",
       "      <td>1.816471</td>\n",
       "      <td>3.091297</td>\n",
       "    </tr>\n",
       "    <tr>\n",
       "      <th>1998</th>\n",
       "      <td>-0.343864</td>\n",
       "      <td>-0.036103</td>\n",
       "    </tr>\n",
       "    <tr>\n",
       "      <th>1999</th>\n",
       "      <td>0.832599</td>\n",
       "      <td>1.787729</td>\n",
       "    </tr>\n",
       "  </tbody>\n",
       "</table>\n",
       "<p>2000 rows × 2 columns</p>\n",
       "</div>"
      ],
      "text/plain": [
       "             X         Y\n",
       "0     0.863815  1.013930\n",
       "1    -0.177209 -0.880755\n",
       "2     1.951065  2.401838\n",
       "3    -0.055535 -1.084298\n",
       "4     0.735910  0.419253\n",
       "...        ...       ...\n",
       "1995  0.207282 -0.423281\n",
       "1996 -0.711794  0.147316\n",
       "1997  1.816471  3.091297\n",
       "1998 -0.343864 -0.036103\n",
       "1999  0.832599  1.787729\n",
       "\n",
       "[2000 rows x 2 columns]"
      ]
     },
     "execution_count": 3,
     "metadata": {},
     "output_type": "execute_result"
    }
   ],
   "source": [
    "df = pandas.DataFrame(b, columns = ['X','Y'])\n",
    "df"
   ]
  },
  {
   "cell_type": "markdown",
   "metadata": {},
   "source": [
    "#### Normalize X data"
   ]
  },
  {
   "cell_type": "code",
   "execution_count": 4,
   "metadata": {},
   "outputs": [
    {
     "data": {
      "text/html": [
       "<div>\n",
       "<style scoped>\n",
       "    .dataframe tbody tr th:only-of-type {\n",
       "        vertical-align: middle;\n",
       "    }\n",
       "\n",
       "    .dataframe tbody tr th {\n",
       "        vertical-align: top;\n",
       "    }\n",
       "\n",
       "    .dataframe thead th {\n",
       "        text-align: right;\n",
       "    }\n",
       "</style>\n",
       "<table border=\"1\" class=\"dataframe\">\n",
       "  <thead>\n",
       "    <tr style=\"text-align: right;\">\n",
       "      <th></th>\n",
       "      <th>X</th>\n",
       "      <th>Y</th>\n",
       "    </tr>\n",
       "  </thead>\n",
       "  <tbody>\n",
       "    <tr>\n",
       "      <th>0</th>\n",
       "      <td>0.903767</td>\n",
       "      <td>1.013930</td>\n",
       "    </tr>\n",
       "    <tr>\n",
       "      <th>1</th>\n",
       "      <td>-0.152461</td>\n",
       "      <td>-0.880755</td>\n",
       "    </tr>\n",
       "    <tr>\n",
       "      <th>2</th>\n",
       "      <td>2.006896</td>\n",
       "      <td>2.401838</td>\n",
       "    </tr>\n",
       "    <tr>\n",
       "      <th>3</th>\n",
       "      <td>-0.029009</td>\n",
       "      <td>-1.084298</td>\n",
       "    </tr>\n",
       "    <tr>\n",
       "      <th>4</th>\n",
       "      <td>0.773994</td>\n",
       "      <td>0.419253</td>\n",
       "    </tr>\n",
       "    <tr>\n",
       "      <th>...</th>\n",
       "      <td>...</td>\n",
       "      <td>...</td>\n",
       "    </tr>\n",
       "    <tr>\n",
       "      <th>1995</th>\n",
       "      <td>0.237646</td>\n",
       "      <td>-0.423281</td>\n",
       "    </tr>\n",
       "    <tr>\n",
       "      <th>1996</th>\n",
       "      <td>-0.694853</td>\n",
       "      <td>0.147316</td>\n",
       "    </tr>\n",
       "    <tr>\n",
       "      <th>1997</th>\n",
       "      <td>1.870336</td>\n",
       "      <td>3.091297</td>\n",
       "    </tr>\n",
       "    <tr>\n",
       "      <th>1998</th>\n",
       "      <td>-0.321550</td>\n",
       "      <td>-0.036103</td>\n",
       "    </tr>\n",
       "    <tr>\n",
       "      <th>1999</th>\n",
       "      <td>0.872095</td>\n",
       "      <td>1.787729</td>\n",
       "    </tr>\n",
       "  </tbody>\n",
       "</table>\n",
       "<p>2000 rows × 2 columns</p>\n",
       "</div>"
      ],
      "text/plain": [
       "             X         Y\n",
       "0     0.903767  1.013930\n",
       "1    -0.152461 -0.880755\n",
       "2     2.006896  2.401838\n",
       "3    -0.029009 -1.084298\n",
       "4     0.773994  0.419253\n",
       "...        ...       ...\n",
       "1995  0.237646 -0.423281\n",
       "1996 -0.694853  0.147316\n",
       "1997  1.870336  3.091297\n",
       "1998 -0.321550 -0.036103\n",
       "1999  0.872095  1.787729\n",
       "\n",
       "[2000 rows x 2 columns]"
      ]
     },
     "execution_count": 4,
     "metadata": {},
     "output_type": "execute_result"
    }
   ],
   "source": [
    "yield_column = df.loc[:, df.columns == 'Y'] \n",
    "del df['Y']\n",
    "normalized_df = (df-df.mean())/df.std()\n",
    "normalized_df = pandas.merge(normalized_df, yield_column, left_index=True, right_index=True)\n",
    "normalized_df"
   ]
  },
  {
   "cell_type": "code",
   "execution_count": 5,
   "metadata": {},
   "outputs": [
    {
     "data": {
      "image/png": "[encoded data removed]",
      "text/plain": [
       "<Figure size 432x288 with 1 Axes>"
      ]
     },
     "metadata": {
      "needs_background": "light"
     },
     "output_type": "display_data"
    }
   ],
   "source": [
    "plt.scatter('X','Y',data =normalized_df, marker = '+', color = 'burlywood')\n",
    "plt.ylabel('Y-data')\n",
    "plt.xlabel('X-data')\n",
    "plt.title('Toy problem data')\n",
    "plt.show()"
   ]
  },
  {
   "cell_type": "code",
   "execution_count": 6,
   "metadata": {},
   "outputs": [],
   "source": [
    "def mse(y_pred,y_test):\n",
    "    '''Returns the mean squared error given two numpy arrays'''\n",
    "    sum_squared_error = np.sum(np.square(y_test - y_pred))\n",
    "    m_s_e = sum_squared_error/len(y_pred)\n",
    "    return m_s_e\n",
    "\n",
    "\n",
    "def linear_regression_fit(x_train,y_train):\n",
    "    '''Returns the closed from w parameter given the x and y data'''\n",
    "    \n",
    "    x_dash_train = np.transpose(x_train)\n",
    "    w = np.linalg.inv(x_dash_train @ x_train) @ x_dash_train @ y_train \n",
    "    return w\n",
    "\n",
    "def linear_regression_predict(x_test,w_star):\n",
    "    '''Returns the predictions given some test data and wstar'''\n",
    "    y_pred=  x_test @ w_star\n",
    "    \n",
    "    return y_pred\n"
   ]
  },
  {
   "cell_type": "code",
   "execution_count": 7,
   "metadata": {},
   "outputs": [],
   "source": [
    "# Split the data into 60%-40% for train/test\n",
    "split = int(len(df)*0.6)\n",
    "data = np.array(normalized_df)\n",
    "np.random.seed(0)\n",
    "shuffle = np.random.permutation(len(data))\n"
   ]
  },
  {
   "cell_type": "code",
   "execution_count": 8,
   "metadata": {},
   "outputs": [],
   "source": [
    "x_linear= np.ones((len(data),1))\n",
    "y_linear= np.ones((len(data),1))\n",
    "\n",
    "for i in range(len(data)):\n",
    "    x_linear[i] = data[i][0]\n",
    "    y_linear[i] = data[i][-1]\n",
    "    \n",
    "x_linear = x_linear[shuffle]\n",
    "y_linear = y_linear[shuffle]\n",
    "x_train_linear= x_linear[:split]\n",
    "y_train_linear = y_linear[:split]\n",
    "\n",
    "x_test_linear = x_linear[split:]\n",
    "y_test_linear = y_linear[split:]"
   ]
  },
  {
   "cell_type": "code",
   "execution_count": 9,
   "metadata": {},
   "outputs": [
    {
     "name": "stdout",
     "output_type": "stream",
     "text": [
      "The mean squared error for the Linear Regression toy problem is 1.0818906625257778\n"
     ]
    }
   ],
   "source": [
    "w_star = linear_regression_fit(x_train_linear,y_train_linear)\n",
    "y_pred_linear = linear_regression_predict(x_test_linear,w_star)\n",
    "print(\"The mean squared error for the Linear Regression toy problem is {}\".format(mse(y_pred_linear,y_test_linear)))"
   ]
  },
  {
   "cell_type": "code",
   "execution_count": 10,
   "metadata": {},
   "outputs": [
    {
     "data": {
      "image/png": "[encoded data removed]",
      "text/plain": [
       "<Figure size 504x504 with 1 Axes>"
      ]
     },
     "metadata": {
      "needs_background": "light"
     },
     "output_type": "display_data"
    }
   ],
   "source": [
    "plt.figure(figsize=(7,7))\n",
    "plt.scatter(x_test_linear,y_test_linear,color = 'orchid',marker = '+')\n",
    "plt.scatter(x_test_linear,y_pred_linear,color = 'cornflowerblue',marker = '+')\n",
    "plt.xlabel('X')\n",
    "plt.ylabel('Y')\n",
    "plt.title('Linear Regression')\n",
    "plt.legend([\"Expected\", \"Predicted\"], loc =\"lower right\",prop={'size': 15} )\n",
    "plt.show()"
   ]
  },
  {
   "cell_type": "markdown",
   "metadata": {},
   "source": [
    "### Gaussian Process"
   ]
  },
  {
   "cell_type": "code",
   "execution_count": 11,
   "metadata": {},
   "outputs": [],
   "source": [
    "x_gaussian = normalized_df.iloc[:,:-1].to_numpy()\n",
    "y_gaussian = normalized_df.iloc[:,-1].to_numpy()\n",
    "\n",
    "x_gaussian = x_gaussian[shuffle]\n",
    "y_gaussian = y_gaussian[shuffle]\n",
    "\n",
    "x_train_gaussian= x_gaussian[:split]\n",
    "y_train_gaussian = y_gaussian[:split]\n",
    "\n",
    "x_test_gaussian = x_gaussian[split:]\n",
    "y_test_gaussian = y_gaussian[split:]\n",
    "\n",
    "\n",
    "y_pred_linear_gaussian = linear_regression_predict(x_train_linear,w_star)"
   ]
  },
  {
   "cell_type": "code",
   "execution_count": 12,
   "metadata": {},
   "outputs": [],
   "source": [
    "def kernel_func(x1,x2,s,l):\n",
    "    euclidean_distance = -2 * x1 @ x2.T + np.sum(x1**2,axis=1).reshape(x1.shape[0],1) + np.sum(x2**2,axis=1)\n",
    "    kernel = s * np.exp(-euclidean_distance / l)\n",
    "    return kernel\n",
    "\n",
    "def euclidean_distance(x1,x2):\n",
    "    \n",
    "    euclidean_distance = -2 * x1 @ x2.T + np.sum(x1**2,axis=1).reshape(x1.shape[0],1) + np.sum(x2**2,axis=1)\n",
    "    return euclidean_distance"
   ]
  },
  {
   "cell_type": "code",
   "execution_count": 13,
   "metadata": {},
   "outputs": [],
   "source": [
    "def optimize_GP(xtrain,ytrain,a=0.001,num_iter=100):\n",
    "    \n",
    "    np.random.seed(0)\n",
    "    n= len(xtrain)\n",
    "    log_s, log_l ,log_sigma = np.random.normal(), np.random.normal(), np.random.normal()\n",
    "    grad_s ,grad_l, grad_sigma = np.zeros(3,dtype=int)\n",
    "    \n",
    "    cost_function = np.zeros(num_iter)\n",
    "    \n",
    "\n",
    "    ytrain = ytrain.reshape(len(ytrain),1)\n",
    "    ytrain = (ytrain - y_pred_linear_gaussian)\n",
    "    \n",
    "    sd = np.std(ytrain)\n",
    "    ytrain = ytrain / sd\n",
    "    \n",
    "    identity_mat = np.eye(xtrain.shape[0])\n",
    "    \n",
    "    # Implementing gradient descent\n",
    "    for i in range(num_iter):\n",
    "        \n",
    "        kernel = kernel_func(xtrain,xtrain,np.exp(log_s),np.exp(log_l))\n",
    "        R = kernel + np.exp(log_sigma) * identity_mat\n",
    "        \n",
    "        L = np.linalg.cholesky(R)\n",
    "        R_inv = linalg.cho_solve((L,True), identity_mat)\n",
    "        \n",
    "        term_sigma = np.exp(log_sigma) * identity_mat\n",
    "        grad_sigma = -0.5 * np.trace(R_inv @ term_sigma) + 0.5 * np.trace(ytrain.reshape(1,-1) @ R_inv @ term_sigma @ R_inv @ ytrain.reshape(-1,1))# - sigma / 2\n",
    "        \n",
    "        grad_s = -0.5 * np.trace(R_inv @ kernel) + 0.5 * np.trace(ytrain.reshape(1,-1) @ R_inv @ kernel @ R_inv @ ytrain.reshape(-1,1))# - s /2 \n",
    "        \n",
    "        term_l = euclidean_distance(xtrain,xtrain) / np.exp(log_l) * kernel\n",
    "        grad_l = -0.5 * np.trace(R_inv @ term_l) + 0.5 * np.trace(ytrain.reshape(1,-1) @ R_inv @ term_l @ R_inv @ ytrain.reshape(-1,1))# - l / 2\n",
    "        cost_function[i] = -(n/2) * np.log(2 * np.pi) - 0.5 * np.prod(np.linalg.slogdet(R)) - 0.5 * np.trace(ytrain.reshape(1,-1) @ R_inv @ ytrain.reshape(-1,1))\n",
    "        print(\"iteration {}\".format(i))\n",
    "        print('l :{}  s:{} sigma:{}  cost:{}'.format(np.exp(log_l), np.exp(log_s), np.exp(log_sigma), cost_function[i]))\n",
    "        \n",
    "        if np.isclose(cost_function[i],cost_function[i-1]):\n",
    "            print(\"Answer converged in {} iterations\".format(i))\n",
    "            return np.exp(log_l), np.exp(log_s), np.exp(log_sigma)\n",
    "        \n",
    "        log_s +=  a * grad_s\n",
    "        log_l +=  a * grad_l\n",
    "        log_sigma +=  a * grad_sigma\n",
    "        \n",
    "    return np.exp(log_l), np.exp(log_s), np.exp(log_sigma)\n",
    "        "
   ]
  },
  {
   "cell_type": "code",
   "execution_count": 14,
   "metadata": {},
   "outputs": [
    {
     "name": "stdout",
     "output_type": "stream",
     "text": [
      "iteration 0\n",
      "l :1.4920592434019648  s:5.836039190663969 sigma:2.661095776728801  cost:-1932.6632235509283\n",
      "iteration 1\n",
      "l :1.4999444543113039  s:5.810854136024948 sigma:1.8344683500642625  cost:-1811.8238789774307\n",
      "iteration 2\n",
      "l :1.5081474978583993  s:5.785324218896963 sigma:1.3986440444957877  cost:-1751.2746958504833\n",
      "iteration 3\n",
      "l :1.5164537682755774  s:5.759727924347811 sigma:1.1796601489182612  cost:-1728.7553666308\n",
      "iteration 4\n",
      "l :1.5247404123546222  s:5.734229994183008 sigma:1.0766118728207867  cost:-1722.5205939660045\n",
      "iteration 5\n",
      "l :1.5329756810461552  s:5.708902698381751 sigma:1.0310927787985866  cost:-1721.1283845037794\n",
      "iteration 6\n",
      "l :1.5411662466625802  s:5.683769845381666 sigma:1.0118513489153986  cost:-1720.828730763817\n",
      "iteration 7\n",
      "l :1.5493213295259403  s:5.658837606936621 sigma:1.0039101282336687  cost:-1720.737912824244\n",
      "iteration 8\n",
      "l :1.5574448975780755  s:5.634106805496803 sigma:1.0006700105928592  cost:-1720.6841879525618\n",
      "iteration 9\n",
      "l :1.5655372391015425  s:5.609576608791324 sigma:0.9993556056138886  cost:-1720.637236297105\n",
      "iteration 10\n",
      "l :1.5735969343833132  s:5.5852455950075495 sigma:0.9988247758763976  cost:-1720.591934383544\n",
      "iteration 11\n",
      "l :1.5816219107743923  s:5.5611120893888595 sigma:0.9986119015275067  cost:-1720.547435392802\n",
      "iteration 12\n",
      "l :1.5896099092972538  s:5.53717428292498 sigma:0.998527912062337  cost:-1720.5036027211916\n",
      "iteration 13\n",
      "l :1.59755867864318  s:5.513430278340668 sigma:0.9984961662751027  cost:-1720.4604157239114\n",
      "iteration 14\n",
      "l :1.6054660543173942  s:5.489878110148735 sigma:0.9984856264690776  cost:-1720.417871674077\n",
      "iteration 15\n",
      "l :1.6133299906537484  s:5.466515755244534 sigma:0.998483734676369  cost:-1720.3759697013734\n",
      "iteration 16\n",
      "l :1.6211485734041697  s:5.4433411400619915 sigma:0.9984854177804846  cost:-1720.3347082182095\n",
      "iteration 17\n",
      "l :1.6289200240975008  s:5.420352146485851 sigma:0.9984886330666335  cost:-1720.294084562401\n",
      "iteration 18\n",
      "l :1.6366427007078073  s:5.397546617294504 sigma:0.9984925639868303  cost:-1720.254095004743\n",
      "iteration 19\n",
      "l :1.6443150965023978  s:5.374922361385665 sigma:0.998496889466872  cost:-1720.214734816992\n",
      "iteration 20\n",
      "l :1.6519358378651905  s:5.352477158851441 sigma:0.9985014880222013  cost:-1720.1759983495886\n",
      "iteration 21\n",
      "l :1.6595036814554605  s:5.330208765906525 sigma:0.9985063179715045  cost:-1720.1378791102716\n",
      "iteration 22\n",
      "l :1.6670175108834266  s:5.3081149196552 sigma:0.9985113689692631  cost:-1720.100369841631\n",
      "iteration 23\n",
      "l :1.674476333009577  s:5.2861933426796135 sigma:0.9985166424231205  cost:-1720.0634625968362\n",
      "iteration 24\n",
      "l :1.6818792739422368  s:5.264441747433379 sigma:0.9985221436108311  cost:-1720.027148813019\n",
      "iteration 25\n",
      "l :1.6892255747927594  s:5.242857840427625 sigma:0.9985278785366983  cost:-1719.991419382035\n",
      "iteration 26\n",
      "l :1.6965145872395473  s:5.221439326199831 sigma:0.9985338527085698  cost:-1719.9562647181567\n",
      "iteration 27\n",
      "l :1.7037457689467628  s:5.200183911058313 sigma:0.9985400706930043  cost:-1719.9216748226008\n",
      "iteration 28\n",
      "l :1.71091867887938  s:5.1790893065982555 sigma:0.9985465359857598  cost:-1719.8876393446326\n",
      "iteration 29\n",
      "l :1.7180329725524925  s:5.158153232987345 sigma:0.9985532510095501  cost:-1719.8541476391906\n",
      "iteration 30\n",
      "l :1.725088397249256  s:5.137373422021126 sigma:0.9985602171626462  cost:-1719.8211888208941\n",
      "iteration 31\n",
      "l :1.7320847872384164  s:5.116747619950177 sigma:0.9985674348868803  cost:-1719.7887518144883\n",
      "iteration 32\n",
      "l :1.7390220590191114  s:5.0962735900826095 sigma:0.9985749037422084  cost:-1719.7568254016983\n",
      "iteration 33\n",
      "l :1.7459002066174163  s:5.075949115166917 sigma:0.9985826224822792  cost:-1719.725398264531\n",
      "iteration 34\n",
      "l :1.7527192969561316  s:5.055771999561241 sigma:0.9985905891285912  cost:-1719.6944590251478\n",
      "iteration 35\n",
      "l :1.759479465316369  s:5.035740071196157 sigma:0.9985988010421627  cost:-1719.6639962823588\n",
      "iteration 36\n",
      "l :1.766180910906838  s:5.015851183338691 sigma:0.998607254992116  cost:-1719.6339986448897\n",
      "iteration 37\n",
      "l :1.7728238925541875  s:4.9961032161661825 sigma:0.9986159472209017  cost:-1719.6044547615193\n",
      "iteration 38\n",
      "l :1.7794087245254129  s:4.976494078158666 sigma:0.9986248735059561  cost:-1719.5753533482794\n",
      "iteration 39\n",
      "l :1.7859357724912124  s:4.957021707319058 sigma:0.9986340292177828  cost:-1719.5466832128286\n",
      "iteration 40\n",
      "l :1.7924054496371697  s:4.937684072230531 sigma:0.998643409374382  cost:-1719.5184332761517\n",
      "iteration 41\n",
      "l :1.7988182129279098  s:4.918479172960459 sigma:0.9986530086920323  cost:-1719.4905925917985\n",
      "iteration 42\n",
      "l :1.8051745595277153  s:4.899405041820414 sigma:0.9986628216325505  cost:-1719.463150362736\n",
      "iteration 43\n",
      "l :1.8114750233797217  s:4.8804597439915876 sigma:0.998672842446995  cost:-1719.436095956079\n",
      "iteration 44\n",
      "l :1.817720171944477  s:4.861641378024811 sigma:0.9986830652160702  cost:-1719.409418915724\n",
      "iteration 45\n",
      "l :1.8239106030975833  s:4.842948076224153 sigma:0.9986934838871425  cost:-1719.3831089731684\n",
      "iteration 46\n",
      "l :1.8300469421851475  s:4.824378004922848 sigma:0.9987040923081965  cost:-1719.357156056586\n",
      "iteration 47\n",
      "l :1.8361298392349223  s:4.805929364659927 sigma:0.9987148842587771  cost:-1719.3315502983128\n",
      "iteration 48\n",
      "l :1.8421599663203254  s:4.787600390265694 sigma:0.9987258534780747  cost:-1719.3062820408732\n",
      "iteration 49\n",
      "l :1.8481380150739068  s:4.769389350863828 sigma:0.9987369936902811  cost:-1719.2813418417056\n",
      "iteration 50\n",
      "l :1.854064694346336  s:4.751294549797398 sigma:0.9987482986274392  cost:-1719.2567204766842\n",
      "iteration 51\n",
      "l :1.8599407280065958  s:4.73331432448588 sigma:0.9987597620498992  cost:-1719.2324089425433\n",
      "iteration 52\n",
      "l :1.865766852878709  s:4.715447046219835 sigma:0.9987713777645227  cost:-1719.2083984583285\n",
      "iteration 53\n",
      "l :1.8715438168101413  s:4.697691119899365 sigma:0.9987831396407985  cost:-1719.1846804659913\n",
      "iteration 54\n",
      "l :1.8772723768667654  s:4.680044983722446 sigma:0.998795041625063  cost:-1719.161246630168\n",
      "iteration 55\n",
      "l :1.8829532976492283  s:4.662507108828378 sigma:0.998807077752877  cost:-1719.138088837292\n",
      "iteration 56\n",
      "l :1.8885873497254482  s:4.645075998901758 sigma:0.99881924215978  cost:-1719.115199194076\n",
      "iteration 57\n",
      "l :1.8941753081739592  s:4.627750189741573 sigma:0.9988315290905145  cost:-1719.092570025454\n",
      "iteration 58\n",
      "l :1.899717951232847  s:4.610528248799974 sigma:0.9988439329068401  cost:-1719.0701938720576\n",
      "iteration 59\n",
      "l :1.9052160590490457  s:4.593408774694783 sigma:0.9988564480940783  cost:-1719.0480634872765\n",
      "iteration 60\n",
      "l :1.9106704125228793  s:4.5763903966996375 sigma:0.9988690692664903  cost:-1719.0261718339839\n",
      "iteration 61\n",
      "l :1.9160817922427908  s:4.559471774215168 sigma:0.9988817911716179  cost:-1719.0045120809152\n",
      "iteration 62\n",
      "l :1.9214509775053579  s:4.542651596224532 sigma:0.9988946086935888  cost:-1718.9830775988742\n",
      "iteration 63\n",
      "l :1.9267787454158238  s:4.525928580736206 sigma:0.9989075168556756  cost:-1718.9618619566356\n",
      "iteration 64\n",
      "l :1.9320658700644984  s:4.509301474216788 sigma:0.9989205108219406  cost:-1718.940858916759\n",
      "iteration 65\n",
      "l :1.9373131217745714  s:4.492769051016221 sigma:0.9989335858982873  cost:-1718.9200624312125\n",
      "iteration 66\n",
      "l :1.9425212664170408  s:4.476330112787704 sigma:0.9989467375328197  cost:-1718.8994666369408\n",
      "iteration 67\n",
      "l :1.9476910647886112  s:4.459983487904362 sigma:0.998959961315717  cost:-1718.8790658512844\n",
      "iteration 68\n",
      "l :1.952823272048624  s:4.443728030874419 sigma:0.9989732529784958  cost:-1718.8588545674413\n",
      "iteration 69\n",
      "l :1.957918637211213  s:4.4275626217566275 sigma:0.9989866083929777  cost:-1718.838827449836\n",
      "iteration 70\n",
      "l :1.9629779026891048  s:4.411486165577346 sigma:0.9990000235698014  cost:-1718.8189793294805\n",
      "iteration 71\n",
      "l :1.9680018038856044  s:4.395497591750656 sigma:0.9990134946565817  cost:-1718.7993051993972\n",
      "iteration 72\n",
      "l :1.9729910688315346  s:4.3795958535026935 sigma:0.999027017935865  cost:-1718.7798002100049\n",
      "iteration 73\n",
      "l :1.9779464178639927  s:4.363779927301175 sigma:0.9990405898227666  cost:-1718.7604596645742\n",
      "iteration 74\n",
      "l :1.9828685633440406  s:4.348048812291116 sigma:0.9990542068624229  cost:-1718.7412790147341\n",
      "iteration 75\n",
      "l :1.9877582094105186  s:4.332401529737482 sigma:0.9990678657272886  cost:-1718.7222538560334\n",
      "iteration 76\n",
      "l :1.9926160517673854  s:4.31683712247558 sigma:0.9990815632142827  cost:-1718.7033799235576\n",
      "iteration 77\n",
      "l :1.9974427775021135  s:4.301354654369645 sigma:0.9990952962417983  cost:-1718.6846530876362\n"
     ]
    },
    {
     "name": "stdout",
     "output_type": "stream",
     "text": [
      "iteration 78\n",
      "l :2.0022390649328066  s:4.285953209780252 sigma:0.9991090618466371  cost:-1718.6660693496383\n",
      "iteration 79\n",
      "l :2.007005583481866  s:4.270631893040968 sigma:0.9991228571808994  cost:-1718.64762483782\n",
      "iteration 80\n",
      "l :2.011742993574139  s:4.255389827944581 sigma:0.9991366795087646  cost:-1718.6293158033118\n",
      "iteration 81\n",
      "l :2.016451946557625  s:4.2402261572392215 sigma:0.9991505262033122  cost:-1718.6111386161544\n",
      "iteration 82\n",
      "l :2.0211330846449327  s:4.225140042134639 sigma:0.9991643947432775  cost:-1718.5930897614548\n",
      "iteration 83\n",
      "l :2.0257870408737952  s:4.210130661818782 sigma:0.9991782827098142  cost:-1718.575165835642\n",
      "iteration 84\n",
      "l :2.030414439085047  s:4.195197212984816 sigma:0.9991921877832967  cost:-1718.5573635428038\n",
      "iteration 85\n",
      "l :2.0350158939165985  s:4.180338909368717 sigma:0.9992061077401052  cost:-1718.5396796911352\n",
      "iteration 86\n",
      "l :2.0395920108120156  s:4.165554981297426 sigma:0.9992200404494533  cost:-1718.522111189498\n",
      "iteration 87\n",
      "l :2.0441433860424056  s:4.150844675247643 sigma:0.9992339838702856  cost:-1718.504655044044\n",
      "iteration 88\n",
      "l :2.0486706067404206  s:4.136207253415194 sigma:0.9992479360481589  cost:-1718.4873083549896\n",
      "iteration 89\n",
      "l :2.0531742509452484  s:4.121641993294974 sigma:0.9992618951122544  cost:-1718.4700683134329\n",
      "iteration 90\n",
      "l :2.057654887657549  s:4.107148187271368 sigma:0.999275859272367  cost:-1718.4529321983098\n",
      "Answer converged in 90 iterations\n"
     ]
    }
   ],
   "source": [
    "l,s,sigma = optimize_GP(x_train_gaussian,y_train_gaussian)"
   ]
  },
  {
   "cell_type": "code",
   "execution_count": 15,
   "metadata": {},
   "outputs": [],
   "source": [
    "def gaussian_process_fit(xtrain,ytrain,xtest,l,s,sigma):\n",
    "    kstardot = kernel_func(xtest,xtrain,s,l)\n",
    "    k = kernel_func(xtrain,xtrain,s,l)\n",
    "    kstarstar = kernel_func(xtest,xtest,s,l)\n",
    "    kdotstar = kernel_func(xtrain,xtest,s,l)\n",
    "    a = np.linalg.inv(k + sigma* np.eye(len(k)))\n",
    "    mu_star =  kstardot @ a @ytrain\n",
    "    var_star = kstarstar - kstardot@ a @ kdotstar + sigma\n",
    "    \n",
    "    \n",
    "    \n",
    "    return mu_star,var_star"
   ]
  },
  {
   "cell_type": "code",
   "execution_count": 16,
   "metadata": {},
   "outputs": [],
   "source": [
    "def gaussian_process_predict(mu_star,var_star):\n",
    "    np.random.seed(0)\n",
    "    y_pred = np.random.multivariate_normal(mu_star,var_star)\n",
    "    \n",
    "    return y_pred "
   ]
  },
  {
   "cell_type": "code",
   "execution_count": 21,
   "metadata": {},
   "outputs": [
    {
     "name": "stdout",
     "output_type": "stream",
     "text": [
      "The mean squared error for the Gaussian Process toy problem is 4.042164187083633\n"
     ]
    }
   ],
   "source": [
    "mu_star, var_star = gaussian_process_fit(x_train_gaussian,y_train_gaussian,x_test_gaussian,l,s,sigma)\n",
    "y_pred_gaussian = gaussian_process_predict(mu_star,var_star)\n",
    "print(\"The mean squared error for the Gaussian Process toy problem is {}\".format(mse(y_pred_gaussian,y_test_gaussian)))"
   ]
  },
  {
   "cell_type": "code",
   "execution_count": 22,
   "metadata": {},
   "outputs": [
    {
     "data": {
      "text/plain": [
       "<matplotlib.legend.Legend at 0x1b328fbdd30>"
      ]
     },
     "execution_count": 22,
     "metadata": {},
     "output_type": "execute_result"
    },
    {
     "data": {
      "image/png": "[encoded data removed]",
      "text/plain": [
       "<Figure size 504x504 with 1 Axes>"
      ]
     },
     "metadata": {
      "needs_background": "light"
     },
     "output_type": "display_data"
    }
   ],
   "source": [
    "plt.figure(figsize=(7,7))\n",
    "plt.scatter(x_test_gaussian,y_test_gaussian,color = 'orchid',marker = '+')\n",
    "plt.scatter(x_test_gaussian,y_pred_gaussian,color = 'cornflowerblue',marker = '+')\n",
    "plt.title('Gaussian Process')\n",
    "plt.xlabel('X')\n",
    "plt.ylabel('Y')\n",
    "\n",
    "plt.legend([\"Expected\", \"Predicted\"], loc =\"lower right\",prop={'size': 15} )"
   ]
  },
  {
   "cell_type": "code",
   "execution_count": null,
   "metadata": {},
   "outputs": [],
   "source": []
  },
  {
   "cell_type": "code",
   "execution_count": null,
   "metadata": {},
   "outputs": [],
   "source": []
  },
  {
   "cell_type": "code",
   "execution_count": null,
   "metadata": {},
   "outputs": [],
   "source": []
  }
 ],
 "metadata": {
  "kernelspec": {
   "display_name": "Python 3",
   "language": "python",
   "name": "python3"
  },
  "language_info": {
   "codemirror_mode": {
    "name": "ipython",
    "version": 3
   },
   "file_extension": ".py",
   "mimetype": "text/x-python",
   "name": "python",
   "nbconvert_exporter": "python",
   "pygments_lexer": "ipython3",
   "version": "3.8.8"
  }
 },
 "nbformat": 4,
 "nbformat_minor": 4
}
